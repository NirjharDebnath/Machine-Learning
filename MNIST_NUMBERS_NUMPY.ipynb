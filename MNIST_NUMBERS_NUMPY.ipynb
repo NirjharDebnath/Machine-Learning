{
  "cells": [
    {
      "cell_type": "markdown",
      "metadata": {
        "id": "view-in-github",
        "colab_type": "text"
      },
      "source": [
        "<a href=\"https://colab.research.google.com/github/NirjharDebnath/Machine-Learning/blob/main/MNIST_NUMBERS_NUMPY.ipynb\" target=\"_parent\"><img src=\"https://colab.research.google.com/assets/colab-badge.svg\" alt=\"Open In Colab\"/></a>"
      ]
    },
    {
      "cell_type": "code",
      "execution_count": null,
      "metadata": {
        "id": "fFYe_s8B-rOF"
      },
      "outputs": [],
      "source": [
        "import torch\n",
        "import torchvision\n",
        "import torchvision.datasets as datasets\n",
        "import numpy as np\n",
        "import matplotlib.pyplot as plt\n",
        "from tqdm.auto import tqdm\n",
        "from timeit import default_timer as timer"
      ]
    },
    {
      "cell_type": "code",
      "execution_count": null,
      "metadata": {
        "id": "9sibtorZ-rOG"
      },
      "outputs": [],
      "source": [
        "train_data = torchvision.datasets.MNIST(root=\"Data\", download=True, train=True, transform=None, target_transform=None)\n",
        "test_data = torchvision.datasets.MNIST(root=\"Data\", download=True, train=False, transform=None, target_transform=None)"
      ]
    },
    {
      "cell_type": "code",
      "execution_count": null,
      "metadata": {
        "id": "2SIpFGOl-rOG"
      },
      "outputs": [],
      "source": [
        "X_train = []\n",
        "\n",
        "for i in range(60000):\n",
        "    X_train.append([np.array(next(iter(train_data[i])))])\n",
        "X_train = np.array(X_train)"
      ]
    },
    {
      "cell_type": "code",
      "execution_count": null,
      "metadata": {
        "id": "sOB2TESf-rOH"
      },
      "outputs": [],
      "source": [
        "Y_train = []\n",
        "for i in range(60000):\n",
        "    Y_train.append((train_data[i])[1])\n",
        "\n",
        "Y_train = np.array(Y_train)"
      ]
    },
    {
      "cell_type": "code",
      "execution_count": null,
      "metadata": {
        "id": "qjfAjLNR-rOH"
      },
      "outputs": [],
      "source": [
        "X_test = []\n",
        "\n",
        "for i in range(10000):\n",
        "    X_test.append([np.array(next(iter(test_data[i])))])\n",
        "X_test = np.array(X_test)"
      ]
    },
    {
      "cell_type": "code",
      "execution_count": null,
      "metadata": {
        "id": "oi3NcrXV-rOH"
      },
      "outputs": [],
      "source": [
        "Y_test = []\n",
        "\n",
        "for i in range(10000):\n",
        "    Y_test.append((test_data[i])[1])\n",
        "Y_test = np.array(Y_test)"
      ]
    },
    {
      "cell_type": "code",
      "execution_count": null,
      "metadata": {
        "colab": {
          "base_uri": "https://localhost:8080/"
        },
        "id": "kzaMmmaZ-rOH",
        "outputId": "8b3209bd-8eb1-4919-c942-743e8497ac5c"
      },
      "outputs": [
        {
          "output_type": "execute_result",
          "data": {
            "text/plain": [
              "((60000, 1, 28, 28), (60000,), (10000, 1, 28, 28), (10000,))"
            ]
          },
          "metadata": {},
          "execution_count": 27
        }
      ],
      "source": [
        "X_train.shape, Y_train.shape, X_test.shape, Y_test.shape"
      ]
    },
    {
      "cell_type": "code",
      "execution_count": null,
      "metadata": {
        "colab": {
          "base_uri": "https://localhost:8080/",
          "height": 452
        },
        "id": "QX2DYZtb-rOH",
        "outputId": "d883f99e-43ae-4bb6-b942-2935d97ae672"
      },
      "outputs": [
        {
          "output_type": "display_data",
          "data": {
            "text/plain": [
              "<Figure size 640x480 with 1 Axes>"
            ],
            "image/png": "[encoded data removed]"
          },
          "metadata": {}
        }
      ],
      "source": [
        "i = np.random.randint(60000)\n",
        "\n",
        "plt.imshow(X_train[i].squeeze(), cmap=\"grey\")\n",
        "plt.title(Y_train[i])\n",
        "plt.show()"
      ]
    },
    {
      "cell_type": "markdown",
      "metadata": {
        "id": "X6BS-jdu-rOI"
      },
      "source": [
        "## Model From scratch"
      ]
    },
    {
      "cell_type": "code",
      "execution_count": null,
      "metadata": {
        "id": "Z7megcAA-rOI"
      },
      "outputs": [],
      "source": [
        "X_flat_train = []\n",
        "for i in range(60000):\n",
        "    X_flat_train.append(X_train[i].squeeze().flatten())\n",
        "\n",
        "X_flat_train = np.array(X_flat_train).T/255\n",
        "\n",
        "X_flat_test = []\n",
        "for i in range(10000):\n",
        "    X_flat_test.append(X_test[i].squeeze().flatten())\n",
        "\n",
        "X_flat_test = np.array(X_flat_test).T/255"
      ]
    },
    {
      "cell_type": "code",
      "execution_count": null,
      "metadata": {
        "colab": {
          "base_uri": "https://localhost:8080/"
        },
        "id": "gu9Tl7Bn-rOI",
        "outputId": "fc3267d2-bf1c-4020-ec3a-2ae3abb51acc"
      },
      "outputs": [
        {
          "output_type": "execute_result",
          "data": {
            "text/plain": [
              "((784, 60000), (784, 10000))"
            ]
          },
          "metadata": {},
          "execution_count": 30
        }
      ],
      "source": [
        "X_flat_train.shape, X_flat_test.shape"
      ]
    },
    {
      "cell_type": "code",
      "execution_count": null,
      "metadata": {
        "colab": {
          "base_uri": "https://localhost:8080/"
        },
        "id": "AJ3FPCv0-rOI",
        "outputId": "25738be4-6e6d-4327-84a9-e8adb83178b0"
      },
      "outputs": [
        {
          "output_type": "execute_result",
          "data": {
            "text/plain": [
              "((60000,), (10000,))"
            ]
          },
          "metadata": {},
          "execution_count": 31
        }
      ],
      "source": [
        "Y_train.shape, Y_test.shape"
      ]
    },
    {
      "cell_type": "code",
      "execution_count": null,
      "metadata": {
        "id": "koKYvE3e-rOI"
      },
      "outputs": [],
      "source": [
        "def ReLU(X):\n",
        "    return np.maximum(0,X)\n",
        "\n",
        "def softmax(X):\n",
        "    return (np.exp(X)/sum(np.exp(X)))\n",
        "\n",
        "def derivative_ReLU(X):\n",
        "    return X>0"
      ]
    },
    {
      "cell_type": "code",
      "execution_count": null,
      "metadata": {
        "id": "xHP-rW7i-rOI"
      },
      "outputs": [],
      "source": [
        "def parameters():\n",
        "    np.random.seed(42)\n",
        "    W1 = np.random.rand(10, 784) - 0.5\n",
        "    b1 = np.random.rand(10, 1) - 0.5\n",
        "    W2 = np.random.rand(10, 10) - 0.5\n",
        "    b2 = np.random.rand(10, 1) - 0.5\n",
        "\n",
        "    return W1, b1, W2, b2"
      ]
    },
    {
      "cell_type": "code",
      "execution_count": null,
      "metadata": {
        "id": "gqaUJrgb-rOJ"
      },
      "outputs": [],
      "source": [
        "def encodeY(Y):\n",
        "    oneY = np.zeros((Y.size, 10))\n",
        "    oneY[np.arange(Y.size), Y] = 1\n",
        "\n",
        "    return oneY.T"
      ]
    },
    {
      "cell_type": "code",
      "execution_count": null,
      "metadata": {
        "id": "do2CqEwL-rOJ"
      },
      "outputs": [],
      "source": [
        "def forward(W1, b1, W2, b2, X):\n",
        "    Z1 = W1.dot(X) + b1\n",
        "    A1 = ReLU(Z1)\n",
        "    Z2 = W2.dot(A1) + b2\n",
        "    A2 = softmax(Z2)\n",
        "\n",
        "    return Z1, A1, Z2, A2\n",
        "\n",
        "def backward(Z1, A1, Z2, A2, W1, W2, X, Y):\n",
        "    m = Y.size\n",
        "    encodedY = encodeY(Y)\n",
        "    dZ2 = A2 - encodedY\n",
        "    dW2 = 1 / m * dZ2.dot(A1.T)\n",
        "    db2 = 1 / m * np.sum(dZ2)\n",
        "    dZ1 = W2.T.dot(dZ2) * derivative_ReLU(Z1)\n",
        "    dW1 = 1 / m * dZ1.dot(X.T)\n",
        "    db1 = 1 / m * np.sum(dZ1)\n",
        "    return dW1, db1, dW2, db2\n",
        "\n",
        "def update_parameters(W1, b1, W2, b2, dW1, db1, dW2, db2, lr):\n",
        "    W1 = W1 - lr*dW1\n",
        "    W2 = W2 - lr*dW2\n",
        "    b1 = b1 - lr*db1\n",
        "    b2 = b2 - lr*db2\n",
        "\n",
        "    return W1, b1, W2, b2"
      ]
    },
    {
      "cell_type": "code",
      "execution_count": null,
      "metadata": {
        "id": "qniLdMOY-rOJ"
      },
      "outputs": [],
      "source": [
        "\n",
        "def accuracy(predictions, Y):\n",
        "    # print(predictions, Y)\n",
        "    return np.sum(predictions == Y)/Y.size"
      ]
    },
    {
      "cell_type": "code",
      "execution_count": null,
      "metadata": {
        "id": "TYV6iSeO-rOJ"
      },
      "outputs": [],
      "source": [
        "\n"
      ]
    },
    {
      "cell_type": "code",
      "execution_count": null,
      "metadata": {
        "id": "lMHt7d07-rOJ"
      },
      "outputs": [],
      "source": [
        "def gradient_descent(X_train, Y_train, X_test, Y_test, EPOCHS, lr):\n",
        "    W1, b1, W2, b2 = parameters()\n",
        "    timeron = timer()\n",
        "    for epoch in tqdm(range(EPOCHS)):\n",
        "\n",
        "        # Train\n",
        "\n",
        "        Z1, A1, Z2, A2 = forward(W1=W1, b1=b1, W2=W2, b2=b2, X=X_train)\n",
        "        dW1, db1, dW2, db2 = backward(Z1, A1, Z2, A2, W1, W2, X_train, Y_train)\n",
        "        W1, b1, W2, b2 = update_parameters(W1, b1, W2, b2, dW1, db1, dW2, db2, lr)\n",
        "        A2_train = A2\n",
        "        # Test\n",
        "\n",
        "        Z1, A1, Z2, A2 = forward(W1=W1, b1=b1, W2=W2, b2=b2, X=X_test)\n",
        "        dW1, db1, dW2, db2 = backward(Z1, A1, Z2, A2, W1, W2, X_test, Y_test)\n",
        "        W1, b1, W2, b2 = update_parameters(W1, b1, W2, b2, dW1, db1, dW2, db2, lr)\n",
        "        A2_test = A2\n",
        "\n",
        "        if (epoch % 50 == 0):\n",
        "            print(f\"Epoch Number : {epoch}\")\n",
        "            print(f\"Train Accuracy : {(accuracy(np.argmax(A2_train,0), Y_train)*100):.2f}% | Test Accuracy : {(accuracy(np.argmax(A2_test,0), Y_test)*100):.2f}%\")\n",
        "\n",
        "    timeroff = timer()\n",
        "    print(f\"Time Taken On CPU : {timeroff-timeron:.2f} seconds\")\n",
        "    # return W1, b1, W2, b2\n"
      ]
    },
    {
      "cell_type": "code",
      "execution_count": null,
      "metadata": {
        "colab": {
          "base_uri": "https://localhost:8080/",
          "height": 413,
          "referenced_widgets": [
            "c211f50b36594a19a3de8f77ac5f5fd2",
            "d64ad1afb0c0443ba9d41d7a30ac1484",
            "dee31a9616a54b51a0f102a4f1d24365",
            "1e35f9971c1f4098a5016732747e9fe6",
            "e89e334009814f86ae0b5c664892bbe0",
            "8df0e2af32374eb98c621c8f91c5ace6",
            "ce0cc11ff8ae44fa8fc15505a8865e52",
            "b6c805562fc4490bbc25a6415ac69cab",
            "f118539b6e714ef1bfc895fd93f54db2",
            "11868158195a4d03b4b46aacce3733ee",
            "232173d3895e4fecbc644afee3409125"
          ]
        },
        "id": "I39ysYfP-rOJ",
        "outputId": "d0e812fc-beec-464a-a8f6-28dcc5bc6341"
      },
      "outputs": [
        {
          "output_type": "display_data",
          "data": {
            "text/plain": [
              "  0%|          | 0/500 [00:00<?, ?it/s]"
            ],
            "application/vnd.jupyter.widget-view+json": {
              "version_major": 2,
              "version_minor": 0,
              "model_id": "c211f50b36594a19a3de8f77ac5f5fd2"
            }
          },
          "metadata": {}
        },
        {
          "output_type": "stream",
          "name": "stdout",
          "text": [
            "Epoch Number : 0\n",
            "Train Accuracy : 15.75% | Test Accuracy : 15.61%\n",
            "Epoch Number : 50\n",
            "Train Accuracy : 57.38% | Test Accuracy : 59.46%\n",
            "Epoch Number : 100\n",
            "Train Accuracy : 71.58% | Test Accuracy : 72.65%\n",
            "Epoch Number : 150\n",
            "Train Accuracy : 77.10% | Test Accuracy : 78.29%\n",
            "Epoch Number : 200\n",
            "Train Accuracy : 80.36% | Test Accuracy : 81.68%\n",
            "Epoch Number : 250\n",
            "Train Accuracy : 82.63% | Test Accuracy : 84.09%\n",
            "Epoch Number : 300\n",
            "Train Accuracy : 84.25% | Test Accuracy : 85.72%\n",
            "Epoch Number : 350\n",
            "Train Accuracy : 85.34% | Test Accuracy : 86.74%\n",
            "Epoch Number : 400\n",
            "Train Accuracy : 86.15% | Test Accuracy : 87.59%\n",
            "Epoch Number : 450\n",
            "Train Accuracy : 86.77% | Test Accuracy : 88.19%\n",
            "Time Taken On CPU : 205.34 seconds\n"
          ]
        }
      ],
      "source": [
        "gradient_descent(X_train=X_flat_train, Y_train=Y_train, X_test=X_flat_test, Y_test=Y_test, EPOCHS=500, lr=0.1)"
      ]
    },
    {
      "cell_type": "code",
      "execution_count": null,
      "metadata": {
        "id": "A8lTwCcn-rOJ"
      },
      "outputs": [],
      "source": []
    }
  ],
  "metadata": {
    "kernelspec": {
      "display_name": "torchenv",
      "language": "python",
      "name": "python3"
    },
    "language_info": {
      "codemirror_mode": {
        "name": "ipython",
        "version": 3
      },
      "file_extension": ".py",
      "mimetype": "text/x-python",
      "name": "python",
      "nbconvert_exporter": "python",
      "pygments_lexer": "ipython3",
      "version": "3.12.3"
    },
    "colab": {
      "provenance": [],
      "include_colab_link": true
    },
    "widgets": {
      "application/vnd.jupyter.widget-state+json": {
        "c211f50b36594a19a3de8f77ac5f5fd2": {
          "model_module": "@jupyter-widgets/controls",
          "model_name": "HBoxModel",
          "model_module_version": "1.5.0",
          "state": {
            "_dom_classes": [],
            "_model_module": "@jupyter-widgets/controls",
            "_model_module_version": "1.5.0",
            "_model_name": "HBoxModel",
            "_view_count": null,
            "_view_module": "@jupyter-widgets/controls",
            "_view_module_version": "1.5.0",
            "_view_name": "HBoxView",
            "box_style": "",
            "children": [
              "IPY_MODEL_d64ad1afb0c0443ba9d41d7a30ac1484",
              "IPY_MODEL_dee31a9616a54b51a0f102a4f1d24365",
              "IPY_MODEL_1e35f9971c1f4098a5016732747e9fe6"
            ],
            "layout": "IPY_MODEL_e89e334009814f86ae0b5c664892bbe0"
          }
        },
        "d64ad1afb0c0443ba9d41d7a30ac1484": {
          "model_module": "@jupyter-widgets/controls",
          "model_name": "HTMLModel",
          "model_module_version": "1.5.0",
          "state": {
            "_dom_classes": [],
            "_model_module": "@jupyter-widgets/controls",
            "_model_module_version": "1.5.0",
            "_model_name": "HTMLModel",
            "_view_count": null,
            "_view_module": "@jupyter-widgets/controls",
            "_view_module_version": "1.5.0",
            "_view_name": "HTMLView",
            "description": "",
            "description_tooltip": null,
            "layout": "IPY_MODEL_8df0e2af32374eb98c621c8f91c5ace6",
            "placeholder": "​",
            "style": "IPY_MODEL_ce0cc11ff8ae44fa8fc15505a8865e52",
            "value": "100%"
          }
        },
        "dee31a9616a54b51a0f102a4f1d24365": {
          "model_module": "@jupyter-widgets/controls",
          "model_name": "FloatProgressModel",
          "model_module_version": "1.5.0",
          "state": {
            "_dom_classes": [],
            "_model_module": "@jupyter-widgets/controls",
            "_model_module_version": "1.5.0",
            "_model_name": "FloatProgressModel",
            "_view_count": null,
            "_view_module": "@jupyter-widgets/controls",
            "_view_module_version": "1.5.0",
            "_view_name": "ProgressView",
            "bar_style": "success",
            "description": "",
            "description_tooltip": null,
            "layout": "IPY_MODEL_b6c805562fc4490bbc25a6415ac69cab",
            "max": 500,
            "min": 0,
            "orientation": "horizontal",
            "style": "IPY_MODEL_f118539b6e714ef1bfc895fd93f54db2",
            "value": 500
          }
        },
        "1e35f9971c1f4098a5016732747e9fe6": {
          "model_module": "@jupyter-widgets/controls",
          "model_name": "HTMLModel",
          "model_module_version": "1.5.0",
          "state": {
            "_dom_classes": [],
            "_model_module": "@jupyter-widgets/controls",
            "_model_module_version": "1.5.0",
            "_model_name": "HTMLModel",
            "_view_count": null,
            "_view_module": "@jupyter-widgets/controls",
            "_view_module_version": "1.5.0",
            "_view_name": "HTMLView",
            "description": "",
            "description_tooltip": null,
            "layout": "IPY_MODEL_11868158195a4d03b4b46aacce3733ee",
            "placeholder": "​",
            "style": "IPY_MODEL_232173d3895e4fecbc644afee3409125",
            "value": " 500/500 [03:25&lt;00:00,  2.79it/s]"
          }
        },
        "e89e334009814f86ae0b5c664892bbe0": {
          "model_module": "@jupyter-widgets/base",
          "model_name": "LayoutModel",
          "model_module_version": "1.2.0",
          "state": {
            "_model_module": "@jupyter-widgets/base",
            "_model_module_version": "1.2.0",
            "_model_name": "LayoutModel",
            "_view_count": null,
            "_view_module": "@jupyter-widgets/base",
            "_view_module_version": "1.2.0",
            "_view_name": "LayoutView",
            "align_content": null,
            "align_items": null,
            "align_self": null,
            "border": null,
            "bottom": null,
            "display": null,
            "flex": null,
            "flex_flow": null,
            "grid_area": null,
            "grid_auto_columns": null,
            "grid_auto_flow": null,
            "grid_auto_rows": null,
            "grid_column": null,
            "grid_gap": null,
            "grid_row": null,
            "grid_template_areas": null,
            "grid_template_columns": null,
            "grid_template_rows": null,
            "height": null,
            "justify_content": null,
            "justify_items": null,
            "left": null,
            "margin": null,
            "max_height": null,
            "max_width": null,
            "min_height": null,
            "min_width": null,
            "object_fit": null,
            "object_position": null,
            "order": null,
            "overflow": null,
            "overflow_x": null,
            "overflow_y": null,
            "padding": null,
            "right": null,
            "top": null,
            "visibility": null,
            "width": null
          }
        },
        "8df0e2af32374eb98c621c8f91c5ace6": {
          "model_module": "@jupyter-widgets/base",
          "model_name": "LayoutModel",
          "model_module_version": "1.2.0",
          "state": {
            "_model_module": "@jupyter-widgets/base",
            "_model_module_version": "1.2.0",
            "_model_name": "LayoutModel",
            "_view_count": null,
            "_view_module": "@jupyter-widgets/base",
            "_view_module_version": "1.2.0",
            "_view_name": "LayoutView",
            "align_content": null,
            "align_items": null,
            "align_self": null,
            "border": null,
            "bottom": null,
            "display": null,
            "flex": null,
            "flex_flow": null,
            "grid_area": null,
            "grid_auto_columns": null,
            "grid_auto_flow": null,
            "grid_auto_rows": null,
            "grid_column": null,
            "grid_gap": null,
            "grid_row": null,
            "grid_template_areas": null,
            "grid_template_columns": null,
            "grid_template_rows": null,
            "height": null,
            "justify_content": null,
            "justify_items": null,
            "left": null,
            "margin": null,
            "max_height": null,
            "max_width": null,
            "min_height": null,
            "min_width": null,
            "object_fit": null,
            "object_position": null,
            "order": null,
            "overflow": null,
            "overflow_x": null,
            "overflow_y": null,
            "padding": null,
            "right": null,
            "top": null,
            "visibility": null,
            "width": null
          }
        },
        "ce0cc11ff8ae44fa8fc15505a8865e52": {
          "model_module": "@jupyter-widgets/controls",
          "model_name": "DescriptionStyleModel",
          "model_module_version": "1.5.0",
          "state": {
            "_model_module": "@jupyter-widgets/controls",
            "_model_module_version": "1.5.0",
            "_model_name": "DescriptionStyleModel",
            "_view_count": null,
            "_view_module": "@jupyter-widgets/base",
            "_view_module_version": "1.2.0",
            "_view_name": "StyleView",
            "description_width": ""
          }
        },
        "b6c805562fc4490bbc25a6415ac69cab": {
          "model_module": "@jupyter-widgets/base",
          "model_name": "LayoutModel",
          "model_module_version": "1.2.0",
          "state": {
            "_model_module": "@jupyter-widgets/base",
            "_model_module_version": "1.2.0",
            "_model_name": "LayoutModel",
            "_view_count": null,
            "_view_module": "@jupyter-widgets/base",
            "_view_module_version": "1.2.0",
            "_view_name": "LayoutView",
            "align_content": null,
            "align_items": null,
            "align_self": null,
            "border": null,
            "bottom": null,
            "display": null,
            "flex": null,
            "flex_flow": null,
            "grid_area": null,
            "grid_auto_columns": null,
            "grid_auto_flow": null,
            "grid_auto_rows": null,
            "grid_column": null,
            "grid_gap": null,
            "grid_row": null,
            "grid_template_areas": null,
            "grid_template_columns": null,
            "grid_template_rows": null,
            "height": null,
            "justify_content": null,
            "justify_items": null,
            "left": null,
            "margin": null,
            "max_height": null,
            "max_width": null,
            "min_height": null,
            "min_width": null,
            "object_fit": null,
            "object_position": null,
            "order": null,
            "overflow": null,
            "overflow_x": null,
            "overflow_y": null,
            "padding": null,
            "right": null,
            "top": null,
            "visibility": null,
            "width": null
          }
        },
        "f118539b6e714ef1bfc895fd93f54db2": {
          "model_module": "@jupyter-widgets/controls",
          "model_name": "ProgressStyleModel",
          "model_module_version": "1.5.0",
          "state": {
            "_model_module": "@jupyter-widgets/controls",
            "_model_module_version": "1.5.0",
            "_model_name": "ProgressStyleModel",
            "_view_count": null,
            "_view_module": "@jupyter-widgets/base",
            "_view_module_version": "1.2.0",
            "_view_name": "StyleView",
            "bar_color": null,
            "description_width": ""
          }
        },
        "11868158195a4d03b4b46aacce3733ee": {
          "model_module": "@jupyter-widgets/base",
          "model_name": "LayoutModel",
          "model_module_version": "1.2.0",
          "state": {
            "_model_module": "@jupyter-widgets/base",
            "_model_module_version": "1.2.0",
            "_model_name": "LayoutModel",
            "_view_count": null,
            "_view_module": "@jupyter-widgets/base",
            "_view_module_version": "1.2.0",
            "_view_name": "LayoutView",
            "align_content": null,
            "align_items": null,
            "align_self": null,
            "border": null,
            "bottom": null,
            "display": null,
            "flex": null,
            "flex_flow": null,
            "grid_area": null,
            "grid_auto_columns": null,
            "grid_auto_flow": null,
            "grid_auto_rows": null,
            "grid_column": null,
            "grid_gap": null,
            "grid_row": null,
            "grid_template_areas": null,
            "grid_template_columns": null,
            "grid_template_rows": null,
            "height": null,
            "justify_content": null,
            "justify_items": null,
            "left": null,
            "margin": null,
            "max_height": null,
            "max_width": null,
            "min_height": null,
            "min_width": null,
            "object_fit": null,
            "object_position": null,
            "order": null,
            "overflow": null,
            "overflow_x": null,
            "overflow_y": null,
            "padding": null,
            "right": null,
            "top": null,
            "visibility": null,
            "width": null
          }
        },
        "232173d3895e4fecbc644afee3409125": {
          "model_module": "@jupyter-widgets/controls",
          "model_name": "DescriptionStyleModel",
          "model_module_version": "1.5.0",
          "state": {
            "_model_module": "@jupyter-widgets/controls",
            "_model_module_version": "1.5.0",
            "_model_name": "DescriptionStyleModel",
            "_view_count": null,
            "_view_module": "@jupyter-widgets/base",
            "_view_module_version": "1.2.0",
            "_view_name": "StyleView",
            "description_width": ""
          }
        }
      }
    }
  },
  "nbformat": 4,
  "nbformat_minor": 0
}