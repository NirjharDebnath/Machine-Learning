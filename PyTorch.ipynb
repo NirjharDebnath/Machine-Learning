{
  "nbformat": 4,
  "nbformat_minor": 0,
  "metadata": {
    "colab": {
      "provenance": [],
      "gpuType": "T4"
    },
    "kernelspec": {
      "name": "python3",
      "display_name": "Python 3"
    },
    "language_info": {
      "name": "python"
    },
    "accelerator": "GPU"
  },
  "cells": [
    {
      "cell_type": "markdown",
      "source": [
        "#PyTorch Learning"
      ],
      "metadata": {
        "id": "4VoE3TF_ZMXd"
      }
    },
    {
      "cell_type": "code",
      "source": [
        "import numpy as np\n",
        "import torch\n",
        "from torch import nn\n",
        "import matplotlib.pyplot as plt\n",
        "\n",
        "torch.__version__"
      ],
      "metadata": {
        "id": "dDdRG3PCZRrY",
        "colab": {
          "base_uri": "https://localhost:8080/",
          "height": 36
        },
        "outputId": "53ec26d6-a678-4d24-c5d7-72cf02c4696a"
      },
      "execution_count": 1,
      "outputs": [
        {
          "output_type": "execute_result",
          "data": {
            "text/plain": [
              "'2.4.1+cu121'"
            ],
            "application/vnd.google.colaboratory.intrinsic+json": {
              "type": "string"
            }
          },
          "metadata": {},
          "execution_count": 1
        }
      ]
    },
    {
      "cell_type": "code",
      "source": [
        "device = torch.device('cuda' if torch.cuda.is_available() else 'cpu')\n",
        "device"
      ],
      "metadata": {
        "colab": {
          "base_uri": "https://localhost:8080/"
        },
        "id": "q6pxmmKMaQoU",
        "outputId": "93a7adac-e99b-4e8d-f354-55de2f2ce230"
      },
      "execution_count": 2,
      "outputs": [
        {
          "output_type": "execute_result",
          "data": {
            "text/plain": [
              "device(type='cuda')"
            ]
          },
          "metadata": {},
          "execution_count": 2
        }
      ]
    },
    {
      "cell_type": "code",
      "source": [
        "!nvidia-smi"
      ],
      "metadata": {
        "colab": {
          "base_uri": "https://localhost:8080/"
        },
        "id": "s74QUCp_arT1",
        "outputId": "518bc358-ea44-4359-a9cf-6707c84eaf39"
      },
      "execution_count": 3,
      "outputs": [
        {
          "output_type": "stream",
          "name": "stdout",
          "text": [
            "Mon Oct 21 12:24:29 2024       \n",
            "+---------------------------------------------------------------------------------------+\n",
            "| NVIDIA-SMI 535.104.05             Driver Version: 535.104.05   CUDA Version: 12.2     |\n",
            "|-----------------------------------------+----------------------+----------------------+\n",
            "| GPU  Name                 Persistence-M | Bus-Id        Disp.A | Volatile Uncorr. ECC |\n",
            "| Fan  Temp   Perf          Pwr:Usage/Cap |         Memory-Usage | GPU-Util  Compute M. |\n",
            "|                                         |                      |               MIG M. |\n",
            "|=========================================+======================+======================|\n",
            "|   0  Tesla T4                       Off | 00000000:00:04.0 Off |                    0 |\n",
            "| N/A   67C    P8              10W /  70W |      3MiB / 15360MiB |      0%      Default |\n",
            "|                                         |                      |                  N/A |\n",
            "+-----------------------------------------+----------------------+----------------------+\n",
            "                                                                                         \n",
            "+---------------------------------------------------------------------------------------+\n",
            "| Processes:                                                                            |\n",
            "|  GPU   GI   CI        PID   Type   Process name                            GPU Memory |\n",
            "|        ID   ID                                                             Usage      |\n",
            "|=======================================================================================|\n",
            "|  No running processes found                                                           |\n",
            "+---------------------------------------------------------------------------------------+\n"
          ]
        }
      ]
    },
    {
      "cell_type": "markdown",
      "source": [
        "## Creating Data"
      ],
      "metadata": {
        "id": "eDo_Y8Df417W"
      }
    },
    {
      "cell_type": "code",
      "source": [
        "weight = 0.8\n",
        "bias = 0.2\n",
        "\n",
        "X = torch.arange(0, 1, 0.01).unsqueeze(dim= 1)\n",
        "Y = weight*X + bias\n",
        "\n",
        "X_train, Y_train = X[:80], Y[:80]\n",
        "X_test, Y_test = X[80:], Y[80:]\n",
        "\n",
        "len(X_train), len(X_test), len(Y_train), len(Y_test)"
      ],
      "metadata": {
        "id": "AgMry6T-4kfN",
        "colab": {
          "base_uri": "https://localhost:8080/"
        },
        "outputId": "aa17f94d-467b-4964-c509-a840ed422e4a"
      },
      "execution_count": 4,
      "outputs": [
        {
          "output_type": "execute_result",
          "data": {
            "text/plain": [
              "(80, 20, 80, 20)"
            ]
          },
          "metadata": {},
          "execution_count": 4
        }
      ]
    },
    {
      "cell_type": "code",
      "source": [
        "#ploting\n",
        "\n",
        "def plotpredictions(train_data= X_train,\n",
        "                    train_labels = Y_train,\n",
        "                    test_data = X_test,\n",
        "                    test_labels = Y_test,\n",
        "                    predictions = None):\n",
        "\n",
        "    plt.figure(figsize=(10, 8))\n",
        "\n",
        "    plt.scatter(train_data, train_labels, c='b', s=4, label= \"training data\")\n",
        "    plt.scatter(test_data, test_labels, c='g', s=4, label= \"testing data\")\n",
        "\n",
        "    if predictions is not None:\n",
        "        plt.scatter(test_data, predictions, c='r', s=4, label='Predictions')\n",
        "\n",
        "    plt.legend(prop={\"size\": 14})\n"
      ],
      "metadata": {
        "id": "Qhh6C89b6J8A"
      },
      "execution_count": 5,
      "outputs": []
    },
    {
      "cell_type": "code",
      "source": [
        "plotpredictions()"
      ],
      "metadata": {
        "colab": {
          "base_uri": "https://localhost:8080/",
          "height": 676
        },
        "id": "8VDb8O3k7mY_",
        "outputId": "4b29366c-2602-4136-e541-7b1e4cf0ce97"
      },
      "execution_count": 6,
      "outputs": [
        {
          "output_type": "display_data",
          "data": {
            "text/plain": [
              "<Figure size 1000x800 with 1 Axes>"
            ],
            "image/png": "[encoded data removed]"
          },
          "metadata": {}
        }
      ]
    },
    {
      "cell_type": "markdown",
      "source": [
        "## Building Model"
      ],
      "metadata": {
        "id": "YN6STlZm75y9"
      }
    },
    {
      "cell_type": "code",
      "source": [
        "\n",
        "class LinearRegressionModel (nn.Module):\n",
        "    def __init__(self):\n",
        "        super().__init__()\n",
        "\n",
        "        self.linear_layer = nn.Linear(in_features=1,\n",
        "                                      out_features=1)\n",
        "\n",
        "    def forward(self, x:torch.Tensor) -> torch.Tensor:\n",
        "        return self.linear_layer(x)"
      ],
      "metadata": {
        "id": "izf14ybs71Bp"
      },
      "execution_count": 7,
      "outputs": []
    },
    {
      "cell_type": "code",
      "source": [
        "torch.manual_seed(42)\n",
        "model0 = LinearRegressionModel()\n",
        "model0.state_dict()"
      ],
      "metadata": {
        "colab": {
          "base_uri": "https://localhost:8080/"
        },
        "id": "fcsT5ZHy9WZI",
        "outputId": "3a53fa9f-8504-42a6-e448-63b8d1db2b53"
      },
      "execution_count": 8,
      "outputs": [
        {
          "output_type": "execute_result",
          "data": {
            "text/plain": [
              "OrderedDict([('linear_layer.weight', tensor([[0.7645]])),\n",
              "             ('linear_layer.bias', tensor([0.8300]))])"
            ]
          },
          "metadata": {},
          "execution_count": 8
        }
      ]
    },
    {
      "cell_type": "code",
      "source": [
        "torch.manual_seed(42)\n",
        "with torch.inference_mode():\n",
        "    ypreds = model0(X_test)\n",
        "    plotpredictions(predictions= ypreds)"
      ],
      "metadata": {
        "colab": {
          "base_uri": "https://localhost:8080/",
          "height": 676
        },
        "id": "2UmdrTCt-Tmp",
        "outputId": "408721db-c6e4-44f2-abdc-c8fbb9d2378d"
      },
      "execution_count": 9,
      "outputs": [
        {
          "output_type": "display_data",
          "data": {
            "text/plain": [
              "<Figure size 1000x800 with 1 Axes>"
            ],
            "image/png": "[encoded data removed]"
          },
          "metadata": {}
        }
      ]
    },
    {
      "cell_type": "markdown",
      "source": [
        "## Train Model and Test Model"
      ],
      "metadata": {
        "id": "fmfm44_zAVuq"
      }
    },
    {
      "cell_type": "code",
      "source": [
        "lossfn = nn.L1Loss()\n",
        "optimizer = torch.optim.SGD(params= model0.parameters(),\n",
        "                            lr=0.001)"
      ],
      "metadata": {
        "id": "ogD1o_QV_FzS"
      },
      "execution_count": 10,
      "outputs": []
    },
    {
      "cell_type": "code",
      "source": [
        "epoch = 1924\n",
        "epochcount = []\n",
        "losses = []\n",
        "testlosses = []\n",
        "\n",
        "\n",
        "X_test = X_test.to(device)\n",
        "X_train = X_train.to(device)\n",
        "Y_train = Y_train.to(device)\n",
        "Y_test = Y_test.to(device)\n",
        "model0.to(device)\n",
        "for epoch in range(epoch):\n",
        "    #Train\n",
        "    model0.train()\n",
        "    ypreds = model0(X_train)\n",
        "    loss = lossfn(ypreds, Y_train)\n",
        "    l = loss.cpu()\n",
        "    losses.append(l)\n",
        "    optimizer.zero_grad()\n",
        "    loss.backward()\n",
        "    optimizer.step()\n",
        "    epochcount.append(epoch)\n",
        "\n",
        "    #Test\n",
        "    model0.eval()\n",
        "    with torch.inference_mode():\n",
        "        testpreds = model0(X_test)\n",
        "        testloss = lossfn(testpreds, Y_test)\n",
        "        tl = testloss.cpu()\n",
        "        testlosses.append(tl)\n",
        "\n",
        "        if epoch%10 == 0:\n",
        "            print(f'epoch = {epoch} || loss = {loss} || testloss = {testloss}')"
      ],
      "metadata": {
        "colab": {
          "base_uri": "https://localhost:8080/"
        },
        "id": "uIdqo276SpGt",
        "outputId": "474fc66c-0729-4ca8-d354-4927fe465f89"
      },
      "execution_count": 11,
      "outputs": [
        {
          "output_type": "stream",
          "name": "stdout",
          "text": [
            "epoch = 0 || loss = 0.6160006523132324 || testloss = 0.5969163775444031\n",
            "epoch = 10 || loss = 0.6044405102729797 || testloss = 0.5833812952041626\n",
            "epoch = 20 || loss = 0.5928804278373718 || testloss = 0.5698461532592773\n",
            "epoch = 30 || loss = 0.5813202857971191 || testloss = 0.5563110709190369\n",
            "epoch = 40 || loss = 0.5697601437568665 || testloss = 0.5427759289741516\n",
            "epoch = 50 || loss = 0.5582000017166138 || testloss = 0.5292407870292664\n",
            "epoch = 60 || loss = 0.5466399192810059 || testloss = 0.5157057046890259\n",
            "epoch = 70 || loss = 0.5350797772407532 || testloss = 0.5021705627441406\n",
            "epoch = 80 || loss = 0.5235196948051453 || testloss = 0.48863545060157776\n",
            "epoch = 90 || loss = 0.5119595527648926 || testloss = 0.4751002788543701\n",
            "epoch = 100 || loss = 0.5003994107246399 || testloss = 0.46156516671180725\n",
            "epoch = 110 || loss = 0.4888392984867096 || testloss = 0.4480300545692444\n",
            "epoch = 120 || loss = 0.4772791564464569 || testloss = 0.4344949722290039\n",
            "epoch = 130 || loss = 0.4657190442085266 || testloss = 0.42095980048179626\n",
            "epoch = 140 || loss = 0.4541589319705963 || testloss = 0.4074247479438782\n",
            "epoch = 150 || loss = 0.442598819732666 || testloss = 0.39388957619667053\n",
            "epoch = 160 || loss = 0.43103867769241333 || testloss = 0.3803544342517853\n",
            "epoch = 170 || loss = 0.41947856545448303 || testloss = 0.3668193519115448\n",
            "epoch = 180 || loss = 0.40791845321655273 || testloss = 0.35328420996665955\n",
            "epoch = 190 || loss = 0.39635834097862244 || testloss = 0.3397490978240967\n",
            "epoch = 200 || loss = 0.38479819893836975 || testloss = 0.3262139856815338\n",
            "epoch = 210 || loss = 0.37323808670043945 || testloss = 0.31267887353897095\n",
            "epoch = 220 || loss = 0.36167797446250916 || testloss = 0.2991437315940857\n",
            "epoch = 230 || loss = 0.35011786222457886 || testloss = 0.28560858964920044\n",
            "epoch = 240 || loss = 0.33855772018432617 || testloss = 0.2720734775066376\n",
            "epoch = 250 || loss = 0.3269976079463959 || testloss = 0.2585383653640747\n",
            "epoch = 260 || loss = 0.3154374659061432 || testloss = 0.24500322341918945\n",
            "epoch = 270 || loss = 0.3038773536682129 || testloss = 0.2314681112766266\n",
            "epoch = 280 || loss = 0.2923172414302826 || testloss = 0.21793298423290253\n",
            "epoch = 290 || loss = 0.2807570993900299 || testloss = 0.20439787209033966\n",
            "epoch = 300 || loss = 0.2691969871520996 || testloss = 0.1908627450466156\n",
            "epoch = 310 || loss = 0.2576368749141693 || testloss = 0.17732763290405273\n",
            "epoch = 320 || loss = 0.24607673287391663 || testloss = 0.16379250586032867\n",
            "epoch = 330 || loss = 0.23451662063598633 || testloss = 0.1502573937177658\n",
            "epoch = 340 || loss = 0.22295652329921722 || testloss = 0.13672226667404175\n",
            "epoch = 350 || loss = 0.21139638125896454 || testloss = 0.12318714708089828\n",
            "epoch = 360 || loss = 0.19983626902103424 || testloss = 0.10965202003717422\n",
            "epoch = 370 || loss = 0.18827614188194275 || testloss = 0.09611691534519196\n",
            "epoch = 380 || loss = 0.17671601474285126 || testloss = 0.0825817734003067\n",
            "epoch = 390 || loss = 0.16515591740608215 || testloss = 0.06904666125774384\n",
            "epoch = 400 || loss = 0.15359579026699066 || testloss = 0.05551154538989067\n",
            "epoch = 410 || loss = 0.14203564822673798 || testloss = 0.04197641834616661\n",
            "epoch = 420 || loss = 0.13047552108764648 || testloss = 0.02844129502773285\n",
            "epoch = 430 || loss = 0.11891541630029678 || testloss = 0.015679839998483658\n",
            "epoch = 440 || loss = 0.10735528916120529 || testloss = 0.010515093803405762\n",
            "epoch = 450 || loss = 0.095795176923275 || testloss = 0.014133843593299389\n",
            "epoch = 460 || loss = 0.08430539816617966 || testloss = 0.025613924488425255\n",
            "epoch = 470 || loss = 0.07505856454372406 || testloss = 0.03737446293234825\n",
            "epoch = 480 || loss = 0.06831496208906174 || testloss = 0.04719218239188194\n",
            "epoch = 490 || loss = 0.06332474201917648 || testloss = 0.05543502792716026\n",
            "epoch = 500 || loss = 0.05954877287149429 || testloss = 0.06237216666340828\n",
            "epoch = 510 || loss = 0.056635696440935135 || testloss = 0.06825927644968033\n",
            "epoch = 520 || loss = 0.05437144264578819 || testloss = 0.07322664558887482\n",
            "epoch = 530 || loss = 0.052571553736925125 || testloss = 0.07743759453296661\n",
            "epoch = 540 || loss = 0.05111224576830864 || testloss = 0.08101274073123932\n",
            "epoch = 550 || loss = 0.04993719980120659 || testloss = 0.08399506658315659\n",
            "epoch = 560 || loss = 0.04894452542066574 || testloss = 0.08653674274682999\n",
            "epoch = 570 || loss = 0.04810623824596405 || testloss = 0.0886407122015953\n",
            "epoch = 580 || loss = 0.047384489327669144 || testloss = 0.09038269519805908\n",
            "epoch = 590 || loss = 0.04675238952040672 || testloss = 0.09180096536874771\n",
            "epoch = 600 || loss = 0.046186309307813644 || testloss = 0.09293267875909805\n",
            "epoch = 610 || loss = 0.045660000294446945 || testloss = 0.09388575702905655\n",
            "epoch = 620 || loss = 0.045198120176792145 || testloss = 0.09451921284198761\n",
            "epoch = 630 || loss = 0.044743478298187256 || testloss = 0.09508206695318222\n",
            "epoch = 640 || loss = 0.0443328320980072 || testloss = 0.09536252170801163\n",
            "epoch = 650 || loss = 0.043922193348407745 || testloss = 0.09564298391342163\n",
            "epoch = 660 || loss = 0.04353807121515274 || testloss = 0.09564274549484253\n",
            "epoch = 670 || loss = 0.04316423460841179 || testloss = 0.0955723375082016\n",
            "epoch = 680 || loss = 0.04279040917754173 || testloss = 0.09550193697214127\n",
            "epoch = 690 || loss = 0.0424199104309082 || testloss = 0.09536188840866089\n",
            "epoch = 700 || loss = 0.0420687198638916 || testloss = 0.09494327753782272\n",
            "epoch = 710 || loss = 0.0417175255715847 || testloss = 0.09452467411756516\n",
            "epoch = 720 || loss = 0.0413663387298584 || testloss = 0.09410607069730759\n",
            "epoch = 730 || loss = 0.0410151444375515 || testloss = 0.09368746727705002\n",
            "epoch = 740 || loss = 0.0406639538705349 || testloss = 0.09326884895563126\n",
            "epoch = 750 || loss = 0.040312763303518295 || testloss = 0.09285024553537369\n",
            "epoch = 760 || loss = 0.039967022836208344 || testloss = 0.0921892300248146\n",
            "epoch = 770 || loss = 0.03962425887584686 || testloss = 0.09142432361841202\n",
            "epoch = 780 || loss = 0.03928149864077568 || testloss = 0.09065941721200943\n",
            "epoch = 790 || loss = 0.0389387384057045 || testloss = 0.08989451080560684\n",
            "epoch = 800 || loss = 0.038595978170633316 || testloss = 0.08912960439920425\n",
            "epoch = 810 || loss = 0.038253214210271835 || testloss = 0.08836469799280167\n",
            "epoch = 820 || loss = 0.03791045770049095 || testloss = 0.08759979158639908\n",
            "epoch = 830 || loss = 0.03756769374012947 || testloss = 0.08683488517999649\n",
            "epoch = 840 || loss = 0.03722493350505829 || testloss = 0.0860699787735939\n",
            "epoch = 850 || loss = 0.036882173269987106 || testloss = 0.08530507236719131\n",
            "epoch = 860 || loss = 0.036539413034915924 || testloss = 0.08454016596078873\n",
            "epoch = 870 || loss = 0.03619665279984474 || testloss = 0.08377525955438614\n",
            "epoch = 880 || loss = 0.03585389256477356 || testloss = 0.08301035314798355\n",
            "epoch = 890 || loss = 0.03551113232970238 || testloss = 0.08224544674158096\n",
            "epoch = 900 || loss = 0.035168372094631195 || testloss = 0.08148054033517838\n",
            "epoch = 910 || loss = 0.034825608134269714 || testloss = 0.08071563392877579\n",
            "epoch = 920 || loss = 0.03448284789919853 || testloss = 0.0799507275223732\n",
            "epoch = 930 || loss = 0.03414008766412735 || testloss = 0.07918582111597061\n",
            "epoch = 940 || loss = 0.03379732742905617 || testloss = 0.07842091470956802\n",
            "epoch = 950 || loss = 0.03345456346869469 || testloss = 0.07765600830316544\n",
            "epoch = 960 || loss = 0.0331118069589138 || testloss = 0.07689110189676285\n",
            "epoch = 970 || loss = 0.03276904299855232 || testloss = 0.07612619549036026\n",
            "epoch = 980 || loss = 0.03242628276348114 || testloss = 0.07536128908395767\n",
            "epoch = 990 || loss = 0.03208352252840996 || testloss = 0.07459638267755508\n",
            "epoch = 1000 || loss = 0.031740762293338776 || testloss = 0.0738314762711525\n",
            "epoch = 1010 || loss = 0.031397998332977295 || testloss = 0.07306656986474991\n",
            "epoch = 1020 || loss = 0.031055239960551262 || testloss = 0.07230166345834732\n",
            "epoch = 1030 || loss = 0.03071247600018978 || testloss = 0.07153675705194473\n",
            "epoch = 1040 || loss = 0.030369717627763748 || testloss = 0.07077185064554214\n",
            "epoch = 1050 || loss = 0.030026955530047417 || testloss = 0.07000694423913956\n",
            "epoch = 1060 || loss = 0.029684195294976234 || testloss = 0.06924203783273697\n",
            "epoch = 1070 || loss = 0.029341433197259903 || testloss = 0.06847713142633438\n",
            "epoch = 1080 || loss = 0.02899867296218872 || testloss = 0.0677122250199318\n",
            "epoch = 1090 || loss = 0.02865591086447239 || testloss = 0.0669473186135292\n",
            "epoch = 1100 || loss = 0.028313150629401207 || testloss = 0.06618241220712662\n",
            "epoch = 1110 || loss = 0.027970388531684875 || testloss = 0.06541750580072403\n",
            "epoch = 1120 || loss = 0.027627630159258842 || testloss = 0.06465259939432144\n",
            "epoch = 1130 || loss = 0.027284866198897362 || testloss = 0.06388769298791885\n",
            "epoch = 1140 || loss = 0.02694210782647133 || testloss = 0.06312278658151627\n",
            "epoch = 1150 || loss = 0.026599345728754997 || testloss = 0.06235788017511368\n",
            "epoch = 1160 || loss = 0.026256585493683815 || testloss = 0.06159297376871109\n",
            "epoch = 1170 || loss = 0.025913823395967484 || testloss = 0.0608280673623085\n",
            "epoch = 1180 || loss = 0.0255710631608963 || testloss = 0.060063160955905914\n",
            "epoch = 1190 || loss = 0.02522830106317997 || testloss = 0.059298254549503326\n",
            "epoch = 1200 || loss = 0.024885540828108788 || testloss = 0.05853334814310074\n",
            "epoch = 1210 || loss = 0.024542778730392456 || testloss = 0.05776844173669815\n",
            "epoch = 1220 || loss = 0.024200020357966423 || testloss = 0.05700353533029556\n",
            "epoch = 1230 || loss = 0.023857256397604942 || testloss = 0.056238602846860886\n",
            "epoch = 1240 || loss = 0.023514507338404655 || testloss = 0.05547356233000755\n",
            "epoch = 1250 || loss = 0.02317175827920437 || testloss = 0.05470849201083183\n",
            "epoch = 1260 || loss = 0.02282908372581005 || testloss = 0.0539090521633625\n",
            "epoch = 1270 || loss = 0.022486461326479912 || testloss = 0.053109604865312576\n",
            "epoch = 1280 || loss = 0.022143810987472534 || testloss = 0.05231015756726265\n",
            "epoch = 1290 || loss = 0.02180122397840023 || testloss = 0.05147632583975792\n",
            "epoch = 1300 || loss = 0.021458609029650688 || testloss = 0.0506768636405468\n",
            "epoch = 1310 || loss = 0.02111595682799816 || testloss = 0.04987742379307747\n",
            "epoch = 1320 || loss = 0.020773356780409813 || testloss = 0.049043577164411545\n",
            "epoch = 1330 || loss = 0.020430756732821465 || testloss = 0.04824412614107132\n",
            "epoch = 1340 || loss = 0.020088111981749535 || testloss = 0.047444675117731094\n",
            "epoch = 1350 || loss = 0.019745489582419395 || testloss = 0.04661083221435547\n",
            "epoch = 1360 || loss = 0.01940290816128254 || testloss = 0.04581138491630554\n",
            "epoch = 1370 || loss = 0.019060255959630013 || testloss = 0.045011941343545914\n",
            "epoch = 1380 || loss = 0.018717624247074127 || testloss = 0.04417809844017029\n",
            "epoch = 1390 || loss = 0.018375057727098465 || testloss = 0.04337864741683006\n",
            "epoch = 1400 || loss = 0.018032407388091087 || testloss = 0.042579200118780136\n",
            "epoch = 1410 || loss = 0.01768975704908371 || testloss = 0.04174536094069481\n",
            "epoch = 1420 || loss = 0.01734720729291439 || testloss = 0.04094591364264488\n",
            "epoch = 1430 || loss = 0.017004558816552162 || testloss = 0.040146466344594955\n",
            "epoch = 1440 || loss = 0.016661908477544785 || testloss = 0.03934701532125473\n",
            "epoch = 1450 || loss = 0.016319356858730316 || testloss = 0.0385131761431694\n",
            "epoch = 1460 || loss = 0.015976708382368088 || testloss = 0.03771372511982918\n",
            "epoch = 1470 || loss = 0.01563405804336071 || testloss = 0.03691427782177925\n",
            "epoch = 1480 || loss = 0.015291506424546242 || testloss = 0.03608044236898422\n",
            "epoch = 1490 || loss = 0.014948858879506588 || testloss = 0.0352809838950634\n",
            "epoch = 1500 || loss = 0.014606206677854061 || testloss = 0.03448154404759407\n",
            "epoch = 1510 || loss = 0.014263609424233437 || testloss = 0.03366488963365555\n",
            "epoch = 1520 || loss = 0.013921025209128857 || testloss = 0.03283105045557022\n",
            "epoch = 1530 || loss = 0.013578406535089016 || testloss = 0.032031603157520294\n",
            "epoch = 1540 || loss = 0.013235758058726788 || testloss = 0.031232153996825218\n",
            "epoch = 1550 || loss = 0.01289315801113844 || testloss = 0.030398312956094742\n",
            "epoch = 1560 || loss = 0.012550504878163338 || testloss = 0.029616061598062515\n",
            "epoch = 1570 || loss = 0.012207956053316593 || testloss = 0.02878221869468689\n",
            "epoch = 1580 || loss = 0.01186530850827694 || testloss = 0.027982769533991814\n",
            "epoch = 1590 || loss = 0.011522655375301838 || testloss = 0.027183322235941887\n",
            "epoch = 1600 || loss = 0.011180106550455093 || testloss = 0.02634947933256626\n",
            "epoch = 1610 || loss = 0.010837428271770477 || testloss = 0.025532836094498634\n",
            "epoch = 1620 || loss = 0.010494857095181942 || testloss = 0.024733388796448708\n",
            "epoch = 1630 || loss = 0.010152206756174564 || testloss = 0.02393394149839878\n",
            "epoch = 1640 || loss = 0.009809564799070358 || testloss = 0.023100096732378006\n",
            "epoch = 1650 || loss = 0.009467006660997868 || testloss = 0.02230064570903778\n",
            "epoch = 1660 || loss = 0.00912440475076437 || testloss = 0.02148398756980896\n",
            "epoch = 1670 || loss = 0.008781756274402142 || testloss = 0.020684558898210526\n",
            "epoch = 1680 || loss = 0.008439107798039913 || testloss = 0.01988510601222515\n",
            "epoch = 1690 || loss = 0.00809655524790287 || testloss = 0.019051263108849525\n",
            "epoch = 1700 || loss = 0.0077539063058793545 || testloss = 0.0182518158107996\n",
            "epoch = 1710 || loss = 0.007411305792629719 || testloss = 0.017435168847441673\n",
            "epoch = 1720 || loss = 0.0070686559192836285 || testloss = 0.016635721549391747\n",
            "epoch = 1730 || loss = 0.006726007908582687 || testloss = 0.01583627425134182\n",
            "epoch = 1740 || loss = 0.006383454892784357 || testloss = 0.015002432279288769\n",
            "epoch = 1750 || loss = 0.0060408045537769794 || testloss = 0.014202982187271118\n",
            "epoch = 1760 || loss = 0.005698157008737326 || testloss = 0.013403537683188915\n",
            "epoch = 1770 || loss = 0.005355606321245432 || testloss = 0.012569695711135864\n",
            "epoch = 1780 || loss = 0.00501295505091548 || testloss = 0.011770245619118214\n",
            "epoch = 1790 || loss = 0.004670306574553251 || testloss = 0.010970795527100563\n",
            "epoch = 1800 || loss = 0.004327754490077496 || testloss = 0.010136956349015236\n",
            "epoch = 1810 || loss = 0.0039851050823926926 || testloss = 0.00933750905096531\n",
            "epoch = 1820 || loss = 0.003642455441877246 || testloss = 0.008538061752915382\n",
            "epoch = 1830 || loss = 0.003299904987215996 || testloss = 0.00770421652123332\n",
            "epoch = 1840 || loss = 0.002957255346700549 || testloss = 0.006904765963554382\n",
            "epoch = 1850 || loss = 0.002614605240523815 || testloss = 0.006105315871536732\n",
            "epoch = 1860 || loss = 0.002272055484354496 || testloss = 0.005271479487419128\n",
            "epoch = 1870 || loss = 0.00192940142005682 || testloss = 0.004472029395401478\n",
            "epoch = 1880 || loss = 0.0015867560869082808 || testloss = 0.0036725818645209074\n",
            "epoch = 1890 || loss = 0.0012442016741260886 || testloss = 0.0028387398924678564\n",
            "epoch = 1900 || loss = 0.0009015539544634521 || testloss = 0.002039289567619562\n",
            "epoch = 1910 || loss = 0.0005589045467786491 || testloss = 0.0012398421531543136\n",
            "epoch = 1920 || loss = 0.0002168458013329655 || testloss = 0.00047576427459716797\n"
          ]
        }
      ]
    },
    {
      "cell_type": "code",
      "source": [
        "loss"
      ],
      "metadata": {
        "colab": {
          "base_uri": "https://localhost:8080/"
        },
        "id": "hnXnA5JiWgrm",
        "outputId": "04c725d4-e801-4808-92c6-bc70c548e0d8"
      },
      "execution_count": 12,
      "outputs": [
        {
          "output_type": "execute_result",
          "data": {
            "text/plain": [
              "tensor(0.0003, device='cuda:0', grad_fn=<MeanBackward0>)"
            ]
          },
          "metadata": {},
          "execution_count": 12
        }
      ]
    },
    {
      "cell_type": "code",
      "source": [
        "model0.state_dict()"
      ],
      "metadata": {
        "colab": {
          "base_uri": "https://localhost:8080/"
        },
        "id": "gqQOF0nOTM2s",
        "outputId": "d9451575-8857-4230-80fc-abbc6b1c9afe"
      },
      "execution_count": 13,
      "outputs": [
        {
          "output_type": "execute_result",
          "data": {
            "text/plain": [
              "OrderedDict([('linear_layer.weight', tensor([[0.7997]], device='cuda:0')),\n",
              "             ('linear_layer.bias', tensor([0.2010], device='cuda:0'))])"
            ]
          },
          "metadata": {},
          "execution_count": 13
        }
      ]
    },
    {
      "cell_type": "code",
      "source": [
        "model0.eval()\n",
        "with torch.inference_mode():\n",
        "    ypred = model0(X_test)\n",
        "plotpredictions(predictions= ypred.cpu())"
      ],
      "metadata": {
        "colab": {
          "base_uri": "https://localhost:8080/",
          "height": 676
        },
        "id": "-TPMeQmUWiB_",
        "outputId": "bdbc0f6d-3967-4962-c604-b420cd19fb52"
      },
      "execution_count": 14,
      "outputs": [
        {
          "output_type": "display_data",
          "data": {
            "text/plain": [
              "<Figure size 1000x800 with 1 Axes>"
            ],
            "image/png": "[encoded data removed]"
          },
          "metadata": {}
        }
      ]
    },
    {
      "cell_type": "markdown",
      "source": [
        "## Loss Graphs"
      ],
      "metadata": {
        "id": "ydeF9jcaCCLV"
      }
    },
    {
      "cell_type": "code",
      "source": [
        "with torch.inference_mode():\n",
        "    plt.plot(epochcount, testlosses, label=\"test loss\")\n",
        "    plt.plot(epochcount, losses, label=\"loss\")\n",
        "plt.legend()\n",
        "plt.show()"
      ],
      "metadata": {
        "colab": {
          "base_uri": "https://localhost:8080/",
          "height": 430
        },
        "id": "N9ZNSqrGWEbv",
        "outputId": "894d04ea-cac6-4e37-88b4-d7ee5387952b"
      },
      "execution_count": 15,
      "outputs": [
        {
          "output_type": "display_data",
          "data": {
            "text/plain": [
              "<Figure size 640x480 with 1 Axes>"
            ],
            "image/png": "[encoded data removed]"
          },
          "metadata": {}
        }
      ]
    },
    {
      "cell_type": "code",
      "source": [
        "## checking with a random value"
      ],
      "metadata": {
        "id": "Dcgo6a_zAA1F"
      },
      "execution_count": 16,
      "outputs": []
    },
    {
      "cell_type": "code",
      "source": [
        "model0.state_dict()"
      ],
      "metadata": {
        "colab": {
          "base_uri": "https://localhost:8080/"
        },
        "id": "uD88XDhlA1hK",
        "outputId": "1c89fb40-1f69-4035-a4c6-de56f7c580f9"
      },
      "execution_count": 20,
      "outputs": [
        {
          "output_type": "execute_result",
          "data": {
            "text/plain": [
              "OrderedDict([('linear_layer.weight', tensor([[0.7997]], device='cuda:0')),\n",
              "             ('linear_layer.bias', tensor([0.2010], device='cuda:0'))])"
            ]
          },
          "metadata": {},
          "execution_count": 20
        }
      ]
    },
    {
      "cell_type": "code",
      "source": [
        "a = torch.tensor([40], dtype=torch.float32).to(device)\n",
        "y = model0(a)\n",
        "y"
      ],
      "metadata": {
        "colab": {
          "base_uri": "https://localhost:8080/"
        },
        "id": "dyJ4yh6KA1SW",
        "outputId": "e5d1dd61-0290-475b-d77e-fd3edf0f73d9"
      },
      "execution_count": 18,
      "outputs": [
        {
          "output_type": "execute_result",
          "data": {
            "text/plain": [
              "tensor([32.1885], device='cuda:0', grad_fn=<ViewBackward0>)"
            ]
          },
          "metadata": {},
          "execution_count": 18
        }
      ]
    },
    {
      "cell_type": "code",
      "source": [
        "0.8*40+0.2"
      ],
      "metadata": {
        "colab": {
          "base_uri": "https://localhost:8080/"
        },
        "id": "XkoFnASnBQxb",
        "outputId": "f1d15190-c844-4aab-b19e-f672c796fae5"
      },
      "execution_count": 19,
      "outputs": [
        {
          "output_type": "execute_result",
          "data": {
            "text/plain": [
              "32.2"
            ]
          },
          "metadata": {},
          "execution_count": 19
        }
      ]
    },
    {
      "cell_type": "code",
      "source": [],
      "metadata": {
        "id": "GEUzH-6CBs4U"
      },
      "execution_count": 19,
      "outputs": []
    }
  ]
}